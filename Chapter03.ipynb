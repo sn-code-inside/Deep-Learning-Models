{
 "cells": [
  {
   "cell_type": "markdown",
   "metadata": {},
   "source": [
    "This note book contains example code found in the book [Deep Learning Models: A Practical Approach for Hands-On Professionals]. It is intended to aid the quick execution of of the examples while much of the details are remain in the book."
   ]
  },
  {
   "cell_type": "markdown",
   "metadata": {},
   "source": [
    "# Chapter 3. Building Deep Learning Models"
   ]
  },
  {
   "cell_type": "markdown",
   "metadata": {},
   "source": [
    "## 3.1\tIntroduction"
   ]
  },
  {
   "cell_type": "markdown",
   "metadata": {},
   "source": [
    "In this we illustrate how to build deep learning models, their training and and evaluation using the Keras framework in a simple and concise way. We briefly explain some of the concepts behind these models so as to give the reader smooth entry into each section while focusing mainly of how-to-use rather than details of algorithms themselves.  "
   ]
  },
  {
   "cell_type": "markdown",
   "metadata": {},
   "source": [
    "## 3.1.1\tShallow Networks"
   ]
  },
  {
   "cell_type": "markdown",
   "metadata": {},
   "source": [
    "In recent terminology, neural networks can be categorized into deep and shallow neural networks. In this categorization, shallow neural networks can be thought of as the basic building blocks required to understand deep and consist of a few hidden layers, normally one or two. In this sub-section we will give a brief overview of shallow networks since they are an important part of artificial intelligence.  "
   ]
  },
  {
   "cell_type": "markdown",
   "metadata": {},
   "source": [
    "### Simple Perceptron Model Example"
   ]
  },
  {
   "cell_type": "code",
   "execution_count": 13,
   "metadata": {},
   "outputs": [],
   "source": [
    "# Import the necessary libraries\n",
    "\n",
    "from keras import models\n",
    "from keras import layers\n"
   ]
  },
  {
   "cell_type": "code",
   "execution_count": 14,
   "metadata": {},
   "outputs": [],
   "source": [
    "# Load MNIST dataset from Keras\n",
    "\n",
    "from keras.datasets import mnist\n",
    "(train_images, train_labels), (test_images, test_labels) = mnist.load_data()\n"
   ]
  },
  {
   "cell_type": "code",
   "execution_count": 15,
   "metadata": {},
   "outputs": [],
   "source": [
    "# Define the network model by adding two Dense layers\n",
    "\n",
    "shallownetwork = models.Sequential()\n",
    "shallownetwork.add(layers.Dense(4, activation='relu', input_shape=(28 * 28,)))\n",
    "shallownetwork.add(layers.Dense(10, activation='softmax'))\n"
   ]
  },
  {
   "cell_type": "code",
   "execution_count": 16,
   "metadata": {},
   "outputs": [],
   "source": [
    "# Compile the model\n",
    "shallownetwork.compile(optimizer = 'adam', loss= 'categorical_crossentropy',  metrics=['accuracy'])"
   ]
  },
  {
   "cell_type": "code",
   "execution_count": 17,
   "metadata": {
    "scrolled": true
   },
   "outputs": [],
   "source": [
    "# Preprocess the data by scaling it from [0, 255] range to [0, 1] range.\n",
    "\n",
    "train_images = train_images.reshape((60000, 28 * 28))\n",
    "train_images = train_images.astype('float32') / 255\n",
    "test_images = test_images.reshape((10000, 28 * 28))\n",
    "test_images = test_images.astype('float32') / 255\n"
   ]
  },
  {
   "cell_type": "code",
   "execution_count": 18,
   "metadata": {},
   "outputs": [],
   "source": [
    "# Prepare the training and test labels\n",
    "\n",
    "from keras.utils import to_categorical\n",
    "train_labels = to_categorical(train_labels)\n",
    "test_labels = to_categorical(test_labels)\n"
   ]
  },
  {
   "cell_type": "code",
   "execution_count": 19,
   "metadata": {
    "scrolled": true
   },
   "outputs": [
    {
     "name": "stdout",
     "output_type": "stream",
     "text": [
      "Train on 60000 samples, validate on 10000 samples\n",
      "Epoch 1/10\n",
      "60000/60000 [==============================] - 1s 22us/step - loss: 1.1337 - accuracy: 0.6103 - val_loss: 0.6370 - val_accuracy: 0.8129\n",
      "Epoch 2/10\n",
      "60000/60000 [==============================] - 1s 20us/step - loss: 0.5941 - accuracy: 0.8238 - val_loss: 0.5395 - val_accuracy: 0.8430\n",
      "Epoch 3/10\n",
      "60000/60000 [==============================] - 1s 22us/step - loss: 0.5272 - accuracy: 0.8468 - val_loss: 0.4978 - val_accuracy: 0.8557\n",
      "Epoch 4/10\n",
      "60000/60000 [==============================] - 1s 23us/step - loss: 0.4965 - accuracy: 0.8576 - val_loss: 0.4833 - val_accuracy: 0.8616\n",
      "Epoch 5/10\n",
      "60000/60000 [==============================] - 1s 23us/step - loss: 0.4790 - accuracy: 0.8626 - val_loss: 0.4717 - val_accuracy: 0.8657\n",
      "Epoch 6/10\n",
      "60000/60000 [==============================] - 2s 26us/step - loss: 0.4667 - accuracy: 0.8673 - val_loss: 0.4661 - val_accuracy: 0.8670\n",
      "Epoch 7/10\n",
      "60000/60000 [==============================] - 1s 25us/step - loss: 0.4584 - accuracy: 0.8687 - val_loss: 0.4580 - val_accuracy: 0.8679\n",
      "Epoch 8/10\n",
      "60000/60000 [==============================] - 1s 23us/step - loss: 0.4522 - accuracy: 0.8701 - val_loss: 0.4571 - val_accuracy: 0.8689\n",
      "Epoch 9/10\n",
      "60000/60000 [==============================] - 1s 23us/step - loss: 0.4467 - accuracy: 0.8720 - val_loss: 0.4523 - val_accuracy: 0.8703\n",
      "Epoch 10/10\n",
      "60000/60000 [==============================] - 1s 23us/step - loss: 0.4428 - accuracy: 0.8733 - val_loss: 0.4506 - val_accuracy: 0.8705\n"
     ]
    }
   ],
   "source": [
    "\n",
    "# Performing training of the network using the MNIST training dataset\n",
    "\n",
    "history = shallownetwork.fit(train_images, train_labels, epochs=10, batch_size=64, validation_data=(test_images, test_labels))\n"
   ]
  },
  {
   "cell_type": "code",
   "execution_count": 46,
   "metadata": {},
   "outputs": [
    {
     "data": {
      "text/plain": [
       "<matplotlib.legend.Legend at 0x11edae8f7c8>"
      ]
     },
     "execution_count": 46,
     "metadata": {},
     "output_type": "execute_result"
    },
    {
     "data": {
      "image/png": "[encoded data removed]",
      "text/plain": [
       "<Figure size 432x288 with 1 Axes>"
      ]
     },
     "metadata": {
      "needs_background": "light"
     },
     "output_type": "display_data"
    }
   ],
   "source": [
    "# Plot training results\n",
    "\n",
    "#Import library for plots\n",
    "import matplotlib.pyplot as plt\n",
    "\n",
    "plt.plot(history.history['accuracy'], label='train_accuracy')\n",
    "plt.plot(history.history['val_accuracy'], label = 'val_accuracy')\n",
    "plt.xlabel('Epoch')\n",
    "plt.ylabel('Accuracy')\n",
    "plt.title('Training/Validation Accuracy')\n",
    "#plt.ylim([0.5, 1])\n",
    "plt.legend(loc='lower right')"
   ]
  },
  {
   "cell_type": "code",
   "execution_count": 47,
   "metadata": {
    "scrolled": false
   },
   "outputs": [
    {
     "name": "stdout",
     "output_type": "stream",
     "text": [
      "10000/10000 [==============================] - 0s 14us/step\n",
      "test_acc: 0.8622999787330627\n"
     ]
    }
   ],
   "source": [
    "# Evaluate the model using the MNIST test dataset\n",
    "\n",
    "test_loss, test_acc = shallownetwork.evaluate(test_images, test_labels)\n",
    "print('test_acc:', test_acc)"
   ]
  },
  {
   "cell_type": "code",
   "execution_count": 48,
   "metadata": {},
   "outputs": [],
   "source": [
    "# Define the network model by adding two Dense layers, with increased network size to 512\n",
    "\n",
    "shallownetwork = models.Sequential()\n",
    "shallownetwork.add(layers.Dense(512, activation='relu', input_shape=(28 * 28,)))\n",
    "shallownetwork.add(layers.Dense(10, activation='softmax'))\n"
   ]
  },
  {
   "cell_type": "code",
   "execution_count": 49,
   "metadata": {},
   "outputs": [],
   "source": [
    "# Compile the model\n",
    "shallownetwork.compile(optimizer = 'adam', loss= 'categorical_crossentropy',  metrics=['accuracy'])"
   ]
  },
  {
   "cell_type": "code",
   "execution_count": 51,
   "metadata": {
    "scrolled": false
   },
   "outputs": [
    {
     "name": "stdout",
     "output_type": "stream",
     "text": [
      "Train on 60000 samples, validate on 10000 samples\n",
      "Epoch 1/10\n",
      "60000/60000 [==============================] - 4s 65us/step - loss: 0.2657 - accuracy: 0.9237 - val_loss: 0.1338 - val_accuracy: 0.9603\n",
      "Epoch 2/10\n",
      "60000/60000 [==============================] - 4s 62us/step - loss: 0.1077 - accuracy: 0.9685 - val_loss: 0.0963 - val_accuracy: 0.9702\n",
      "Epoch 3/10\n",
      "60000/60000 [==============================] - 4s 61us/step - loss: 0.0704 - accuracy: 0.9794 - val_loss: 0.0766 - val_accuracy: 0.9765\n",
      "Epoch 4/10\n",
      "60000/60000 [==============================] - 4s 63us/step - loss: 0.0509 - accuracy: 0.9848 - val_loss: 0.0648 - val_accuracy: 0.9801\n",
      "Epoch 5/10\n",
      "60000/60000 [==============================] - 4s 62us/step - loss: 0.0370 - accuracy: 0.9892 - val_loss: 0.0704 - val_accuracy: 0.9778\n",
      "Epoch 6/10\n",
      "60000/60000 [==============================] - 4s 62us/step - loss: 0.0283 - accuracy: 0.9915 - val_loss: 0.0703 - val_accuracy: 0.9778\n",
      "Epoch 7/10\n",
      "60000/60000 [==============================] - 4s 61us/step - loss: 0.0209 - accuracy: 0.9944 - val_loss: 0.0718 - val_accuracy: 0.9769\n",
      "Epoch 8/10\n",
      "60000/60000 [==============================] - 4s 65us/step - loss: 0.0155 - accuracy: 0.9960 - val_loss: 0.0600 - val_accuracy: 0.9812\n",
      "Epoch 9/10\n",
      "60000/60000 [==============================] - 4s 62us/step - loss: 0.0127 - accuracy: 0.9967 - val_loss: 0.0581 - val_accuracy: 0.9820\n",
      "Epoch 10/10\n",
      "60000/60000 [==============================] - 4s 63us/step - loss: 0.0087 - accuracy: 0.9982 - val_loss: 0.0627 - val_accuracy: 0.9815\n"
     ]
    }
   ],
   "source": [
    "# Performing training of the network using the MNIST training dataset with increased batchsize of 128\n",
    "\n",
    "history = shallownetwork.fit(train_images, train_labels, epochs=10, batch_size=128, validation_data=(test_images, test_labels))"
   ]
  },
  {
   "cell_type": "code",
   "execution_count": 52,
   "metadata": {},
   "outputs": [
    {
     "data": {
      "text/plain": [
       "<matplotlib.legend.Legend at 0x11ed1e80188>"
      ]
     },
     "execution_count": 52,
     "metadata": {},
     "output_type": "execute_result"
    },
    {
     "data": {
      "image/png": "[encoded data removed]",
      "text/plain": [
       "<Figure size 432x288 with 1 Axes>"
      ]
     },
     "metadata": {
      "needs_background": "light"
     },
     "output_type": "display_data"
    }
   ],
   "source": [
    "# Plot training results\n",
    "\n",
    "#Import library for plots\n",
    "import matplotlib.pyplot as plt\n",
    "\n",
    "plt.plot(history.history['accuracy'], label='train_accuracy')\n",
    "plt.plot(history.history['val_accuracy'], label = 'val_accuracy')\n",
    "plt.xlabel('Epoch')\n",
    "plt.ylabel('Accuracy')\n",
    "plt.title('Training/Validation Accuracy')\n",
    "#plt.ylim([0.5, 1])\n",
    "plt.legend(loc='lower right')"
   ]
  },
  {
   "cell_type": "code",
   "execution_count": 53,
   "metadata": {
    "scrolled": false
   },
   "outputs": [
    {
     "name": "stdout",
     "output_type": "stream",
     "text": [
      "10000/10000 [==============================] - 0s 41us/step\n",
      "test_acc: 0.9815000295639038\n"
     ]
    }
   ],
   "source": [
    "# Evaluate the model using the MNIST test dataset\n",
    "\n",
    "test_loss, test_acc = shallownetwork.evaluate(test_images, test_labels)\n",
    "print('test_acc:', test_acc)"
   ]
  },
  {
   "cell_type": "markdown",
   "metadata": {},
   "source": [
    "### Convolutional Neural Network  (CNN)"
   ]
  },
  {
   "cell_type": "markdown",
   "metadata": {},
   "source": [
    "A convolutional neural network (CNN) is a neural network which  uses at least one layer as part part of the model. The typical construction of a CNN involves the following layers between input and output: at least one layer is a convolutional layer. A typical convolutional neural network consists of some combination of the following layers: convolutional layers, pooling layers and \n",
    "fully connected/dense layers. \n",
    "\n",
    "\n",
    "Convolutional layers apply convolutional operations on their inputs to extract features of the input. Pooling operations are used to reduce the size of the convolution layer outputs by either maximization or averaging operations. Normally, the averaging is done over a 2x2 matrix. Fully connected layers usually come at the top of the network (close to output) and are also sometimes referred to as dense layers. \n",
    "\n",
    "CNNs have successfully applied to computer vision, producing state-of-the-art performance in most applications.\n",
    "\n",
    "The figure below illustrates the structure a CNN.\n",
    "<Figure: CNN>\n",
    "\n",
    "We continue with the MNIST data as an example.\n"
   ]
  },
  {
   "cell_type": "code",
   "execution_count": 7,
   "metadata": {},
   "outputs": [],
   "source": [
    "# Example of CNN using the MNIST data set\n",
    "\n",
    "# Import necessary packages\n",
    "from keras import layers\n",
    "from keras import models\n"
   ]
  },
  {
   "cell_type": "code",
   "execution_count": 26,
   "metadata": {},
   "outputs": [],
   "source": [
    "# Define the CNN model with 3 convolution layers and 2 pooling layers\n",
    "cnn_model = models.Sequential()\n",
    "cnn_model.add(layers.Conv2D(32, (3, 3), activation='relu', input_shape=(28, 28,1)))\n",
    "cnn_model.add(layers.MaxPooling2D((2, 2)))\n",
    "cnn_model.add(layers.Conv2D(64, (3, 3), activation='relu'))\n",
    "cnn_model.add(layers.MaxPooling2D((2, 2)))\n",
    "cnn_model.add(layers.Conv2D(64, (3, 3), activation='relu'))\n",
    "\n",
    "cnn_model.add(layers.Flatten())\n",
    "cnn_model.add(layers.Dense(64, activation='relu'))\n",
    "cnn_model.add(layers.Dense(10, activation='softmax'))\n"
   ]
  },
  {
   "cell_type": "code",
   "execution_count": 21,
   "metadata": {
    "scrolled": false
   },
   "outputs": [
    {
     "name": "stdout",
     "output_type": "stream",
     "text": [
      "Model: \"sequential_4\"\n",
      "_________________________________________________________________\n",
      "Layer (type)                 Output Shape              Param #   \n",
      "=================================================================\n",
      "conv2d_4 (Conv2D)            (None, 26, 26, 32)        320       \n",
      "_________________________________________________________________\n",
      "max_pooling2d_3 (MaxPooling2 (None, 13, 13, 32)        0         \n",
      "_________________________________________________________________\n",
      "conv2d_5 (Conv2D)            (None, 11, 11, 64)        18496     \n",
      "_________________________________________________________________\n",
      "max_pooling2d_4 (MaxPooling2 (None, 5, 5, 64)          0         \n",
      "_________________________________________________________________\n",
      "conv2d_6 (Conv2D)            (None, 3, 3, 64)          36928     \n",
      "_________________________________________________________________\n",
      "flatten_2 (Flatten)          (None, 576)               0         \n",
      "_________________________________________________________________\n",
      "dense_7 (Dense)              (None, 64)                36928     \n",
      "_________________________________________________________________\n",
      "dense_8 (Dense)              (None, 10)                650       \n",
      "=================================================================\n",
      "Total params: 93,322\n",
      "Trainable params: 93,322\n",
      "Non-trainable params: 0\n",
      "_________________________________________________________________\n"
     ]
    }
   ],
   "source": [
    "# View the model summary\n",
    "cnn_model.summary()\n"
   ]
  },
  {
   "cell_type": "code",
   "execution_count": 30,
   "metadata": {},
   "outputs": [
    {
     "name": "stdout",
     "output_type": "stream",
     "text": [
      "Train on 60000 samples, validate on 10000 samples\n",
      "Epoch 1/10\n",
      "60000/60000 [==============================] - 27s 454us/step - loss: 1.9490 - accuracy: 0.4005 - val_loss: 1.0301 - val_accuracy: 0.7310\n",
      "Epoch 2/10\n",
      "60000/60000 [==============================] - 28s 458us/step - loss: 0.6744 - accuracy: 0.8175 - val_loss: 0.4449 - val_accuracy: 0.8768\n",
      "Epoch 3/10\n",
      "60000/60000 [==============================] - 27s 456us/step - loss: 0.4207 - accuracy: 0.8759 - val_loss: 0.3295 - val_accuracy: 0.9018\n",
      "Epoch 4/10\n",
      "60000/60000 [==============================] - 28s 475us/step - loss: 0.3368 - accuracy: 0.8990 - val_loss: 0.2709 - val_accuracy: 0.9168\n",
      "Epoch 5/10\n",
      "60000/60000 [==============================] - 30s 507us/step - loss: 0.2629 - accuracy: 0.9203 - val_loss: 0.2112 - val_accuracy: 0.9352\n",
      "Epoch 6/10\n",
      "60000/60000 [==============================] - 30s 493us/step - loss: 0.2200 - accuracy: 0.9325 - val_loss: 0.1844 - val_accuracy: 0.9445\n",
      "Epoch 7/10\n",
      "60000/60000 [==============================] - 27s 458us/step - loss: 0.1956 - accuracy: 0.9398 - val_loss: 0.1535 - val_accuracy: 0.9528\n",
      "Epoch 8/10\n",
      "60000/60000 [==============================] - 27s 457us/step - loss: 0.1713 - accuracy: 0.9482 - val_loss: 0.1293 - val_accuracy: 0.9599\n",
      "Epoch 9/10\n",
      "60000/60000 [==============================] - 27s 458us/step - loss: 0.1700 - accuracy: 0.9476 - val_loss: 0.1241 - val_accuracy: 0.9619\n",
      "Epoch 10/10\n",
      "60000/60000 [==============================] - 27s 456us/step - loss: 0.1315 - accuracy: 0.9594 - val_loss: 0.1160 - val_accuracy: 0.9653\n"
     ]
    }
   ],
   "source": [
    "# Training the convnet on MNIST images\n",
    "\n",
    "train_images = train_images.reshape((60000, 28, 28, 1))\n",
    "train_images = train_images.astype(\"float32\") / 255\n",
    "test_images = test_images.reshape((10000, 28, 28, 1))\n",
    "test_images = test_images.astype(\"float32\") / 255\n",
    "cnn_model.compile(optimizer='adam',loss='categorical_crossentropy',metrics=['accuracy'])\n",
    "history = cnn_model.fit(train_images, train_labels, epochs=10, batch_size=64, validation_data=(test_images, test_labels))\n"
   ]
  },
  {
   "cell_type": "code",
   "execution_count": 31,
   "metadata": {},
   "outputs": [
    {
     "data": {
      "text/plain": [
       "<matplotlib.legend.Legend at 0x1ea00ff6888>"
      ]
     },
     "execution_count": 31,
     "metadata": {},
     "output_type": "execute_result"
    },
    {
     "data": {
      "image/png": "[encoded data removed]",
      "text/plain": [
       "<Figure size 432x288 with 1 Axes>"
      ]
     },
     "metadata": {
      "needs_background": "light"
     },
     "output_type": "display_data"
    }
   ],
   "source": [
    "# Plot training results\n",
    "\n",
    "#Import library for plots\n",
    "import matplotlib.pyplot as plt\n",
    "\n",
    "plt.plot(history.history['accuracy'], label='train_accuracy')\n",
    "plt.plot(history.history['val_accuracy'], label = 'val_accuracy')\n",
    "plt.xlabel('Epoch')\n",
    "plt.ylabel('Accuracy')\n",
    "plt.title('Training/Validation Accuracy')\n",
    "#plt.ylim([0.5, 1])\n",
    "plt.legend(loc='lower right')"
   ]
  },
  {
   "cell_type": "code",
   "execution_count": 33,
   "metadata": {},
   "outputs": [
    {
     "name": "stdout",
     "output_type": "stream",
     "text": [
      "10000/10000 [==============================] - 1s 122us/step\n",
      "test_acc: 0.9653000235557556\n"
     ]
    }
   ],
   "source": [
    "# Evaluate the model using the MNIST test dataset\n",
    "test_loss, test_acc = cnn_model.evaluate(test_images, test_labels)\n",
    "print('test_acc:', test_acc)"
   ]
  },
  {
   "cell_type": "markdown",
   "metadata": {},
   "source": [
    "### Recurrent Neural Network (RCN)"
   ]
  },
  {
   "cell_type": "markdown",
   "metadata": {},
   "source": [
    "Another popular type of neural network is the recurrent neural network that has been very successfully used for application like natural language processing and speech recognition. \n",
    "RNNs differ from CNNs in that they have memory, meaning that previous inputs have influence on the present input and output. We will not dwell much on RNNs in this text but Fig. 3.1* gives a simplified visual illustration on how they work."
   ]
  },
  {
   "cell_type": "code",
   "execution_count": 83,
   "metadata": {},
   "outputs": [],
   "source": [
    "# Import necessary packages\n",
    "\n",
    "import numpy as np\n",
    "from tensorflow.keras.models import Sequential\n",
    "from tensorflow.keras.layers import Dense, SimpleRNN\n",
    "from tensorflow.keras.utils import to_categorical\n",
    "from tensorflow.keras.datasets import mnist"
   ]
  },
  {
   "cell_type": "code",
   "execution_count": 84,
   "metadata": {},
   "outputs": [],
   "source": [
    "# Load MNIST dataset from Keras\n",
    "\n",
    "from keras.datasets import mnist\n",
    "(train_images, train_labels), (test_images, test_labels) = mnist.load_data()"
   ]
  },
  {
   "cell_type": "code",
   "execution_count": 85,
   "metadata": {},
   "outputs": [],
   "source": [
    "# Extract the number of labels\n",
    "num_train_labels = len(np.unique(train_labels))"
   ]
  },
  {
   "cell_type": "code",
   "execution_count": 86,
   "metadata": {},
   "outputs": [],
   "source": [
    "# Normalize data for training\n",
    "\n",
    "train_images = train_images.reshape((60000, 28, 28))\n",
    "train_images = train_images.astype(\"float32\") / 255\n",
    "test_images = test_images.reshape((10000, 28, 28))\n",
    "test_images = test_images.astype(\"float32\") / 255"
   ]
  },
  {
   "cell_type": "code",
   "execution_count": 87,
   "metadata": {},
   "outputs": [],
   "source": [
    "# Prepare the training and test labels\n",
    "\n",
    "from keras.utils import to_categorical\n",
    "train_labels = to_categorical(train_labels)\n",
    "test_labels = to_categorical(test_labels)\n"
   ]
  },
  {
   "cell_type": "code",
   "execution_count": 88,
   "metadata": {},
   "outputs": [
    {
     "name": "stdout",
     "output_type": "stream",
     "text": [
      "Model: \"sequential_23\"\n",
      "_________________________________________________________________\n",
      "Layer (type)                 Output Shape              Param #   \n",
      "=================================================================\n",
      "simple_rnn_24 (SimpleRNN)    (None, 256)               72960     \n",
      "_________________________________________________________________\n",
      "dense_16 (Dense)             (None, 10)                2570      \n",
      "=================================================================\n",
      "Total params: 75,530\n",
      "Trainable params: 75,530\n",
      "Non-trainable params: 0\n",
      "_________________________________________________________________\n"
     ]
    }
   ],
   "source": [
    "# Create RNN model with 256 units\n",
    "rnn_model = Sequential()\n",
    "rnn_model.add(SimpleRNN(256,input_shape=(28, 28)))\n",
    "rnn_model.add(Dense(num_train_labels, activation='softmax'))\n",
    "rnn_model.summary()"
   ]
  },
  {
   "cell_type": "code",
   "execution_count": 92,
   "metadata": {},
   "outputs": [
    {
     "name": "stdout",
     "output_type": "stream",
     "text": [
      "Train on 60000 samples, validate on 10000 samples\n",
      "Epoch 1/20\n",
      "60000/60000 [==============================] - 15s 252us/sample - loss: 0.1465 - accuracy: 0.9552 - val_loss: 0.1298 - val_accuracy: 0.9581\n",
      "Epoch 2/20\n",
      "60000/60000 [==============================] - 13s 225us/sample - loss: 0.1175 - accuracy: 0.9643 - val_loss: 0.0926 - val_accuracy: 0.9712\n",
      "Epoch 3/20\n",
      "60000/60000 [==============================] - 14s 226us/sample - loss: 0.1092 - accuracy: 0.9672 - val_loss: 0.1289 - val_accuracy: 0.9632\n",
      "Epoch 4/20\n",
      "60000/60000 [==============================] - 14s 230us/sample - loss: 0.0968 - accuracy: 0.9712 - val_loss: 0.0928 - val_accuracy: 0.9717\n",
      "Epoch 5/20\n",
      "60000/60000 [==============================] - 14s 226us/sample - loss: 0.0959 - accuracy: 0.9712 - val_loss: 0.0781 - val_accuracy: 0.9762\n",
      "Epoch 6/20\n",
      "60000/60000 [==============================] - 14s 233us/sample - loss: 0.0924 - accuracy: 0.9722 - val_loss: 0.0781 - val_accuracy: 0.9766\n",
      "Epoch 7/20\n",
      "60000/60000 [==============================] - 14s 233us/sample - loss: 0.0780 - accuracy: 0.9766 - val_loss: 0.0804 - val_accuracy: 0.9758\n",
      "Epoch 8/20\n",
      "60000/60000 [==============================] - 14s 227us/sample - loss: 0.0790 - accuracy: 0.9770 - val_loss: 0.0918 - val_accuracy: 0.9731\n",
      "Epoch 9/20\n",
      "60000/60000 [==============================] - 13s 224us/sample - loss: 0.0770 - accuracy: 0.9768 - val_loss: 0.0781 - val_accuracy: 0.9782\n",
      "Epoch 10/20\n",
      "60000/60000 [==============================] - 14s 225us/sample - loss: 0.0798 - accuracy: 0.9766 - val_loss: 0.1117 - val_accuracy: 0.9696\n",
      "Epoch 11/20\n",
      "60000/60000 [==============================] - 13s 225us/sample - loss: 0.0736 - accuracy: 0.9782 - val_loss: 0.0817 - val_accuracy: 0.9782\n",
      "Epoch 12/20\n",
      "60000/60000 [==============================] - 14s 229us/sample - loss: 0.0704 - accuracy: 0.9796 - val_loss: 0.0999 - val_accuracy: 0.9707\n",
      "Epoch 13/20\n",
      "60000/60000 [==============================] - 14s 228us/sample - loss: 0.0738 - accuracy: 0.9782 - val_loss: 0.0819 - val_accuracy: 0.9770\n",
      "Epoch 14/20\n",
      "60000/60000 [==============================] - 14s 229us/sample - loss: 0.0710 - accuracy: 0.9794 - val_loss: 0.0816 - val_accuracy: 0.9768\n",
      "Epoch 15/20\n",
      "60000/60000 [==============================] - 14s 230us/sample - loss: 0.0679 - accuracy: 0.9795 - val_loss: 0.0915 - val_accuracy: 0.9742\n",
      "Epoch 16/20\n",
      "60000/60000 [==============================] - 14s 228us/sample - loss: 0.0685 - accuracy: 0.9792 - val_loss: 0.0838 - val_accuracy: 0.9758\n",
      "Epoch 17/20\n",
      "60000/60000 [==============================] - 13s 222us/sample - loss: 0.0645 - accuracy: 0.9811 - val_loss: 0.1000 - val_accuracy: 0.9734\n",
      "Epoch 18/20\n",
      "60000/60000 [==============================] - 14s 230us/sample - loss: 0.0737 - accuracy: 0.9783 - val_loss: 0.0855 - val_accuracy: 0.9762\n",
      "Epoch 19/20\n",
      "60000/60000 [==============================] - 14s 231us/sample - loss: 0.0679 - accuracy: 0.9799 - val_loss: 0.0795 - val_accuracy: 0.9784\n",
      "Epoch 20/20\n",
      "60000/60000 [==============================] - 14s 229us/sample - loss: 0.0634 - accuracy: 0.9812 - val_loss: 0.0828 - val_accuracy: 0.9765\n"
     ]
    }
   ],
   "source": [
    "# Train the with the RNN  model with batch size of 128 and 20 epochs\n",
    "rnn_model.compile(loss='categorical_crossentropy',\n",
    "              optimizer='adam',\n",
    "              metrics=['accuracy'])\n",
    "history = rnn_model.fit(train_images, train_labels, epochs=20, batch_size=128, validation_data=(test_images, test_labels))"
   ]
  },
  {
   "cell_type": "code",
   "execution_count": 93,
   "metadata": {},
   "outputs": [
    {
     "data": {
      "text/plain": [
       "<matplotlib.legend.Legend at 0x2a61bd9b808>"
      ]
     },
     "execution_count": 93,
     "metadata": {},
     "output_type": "execute_result"
    },
    {
     "data": {
      "image/png": "[encoded data removed]",
      "text/plain": [
       "<Figure size 432x288 with 1 Axes>"
      ]
     },
     "metadata": {
      "needs_background": "light"
     },
     "output_type": "display_data"
    }
   ],
   "source": [
    "# Plot training results\n",
    "\n",
    "#Import library for plots\n",
    "import matplotlib.pyplot as plt\n",
    "\n",
    "plt.plot(history.history['accuracy'], label='train_accuracy')\n",
    "plt.plot(history.history['val_accuracy'], label = 'val_accuracy')\n",
    "plt.xlabel('Epoch')\n",
    "plt.ylabel('Accuracy')\n",
    "plt.title('Training/Validation Accuracy')\n",
    "#plt.ylim([0.5, 1])\n",
    "plt.legend(loc='lower right')"
   ]
  },
  {
   "cell_type": "code",
   "execution_count": 95,
   "metadata": {},
   "outputs": [
    {
     "name": "stdout",
     "output_type": "stream",
     "text": [
      "10000/10000 [==============================] - 1s 150us/sample - loss: 0.0828 - accuracy: 0.9765\n",
      "test_acc: 0.9765\n"
     ]
    }
   ],
   "source": [
    "# Evaluate the model using the MNIST test dataset\n",
    "test_loss, test_acc = rnn_model.evaluate(test_images, test_labels)\n",
    "print('test_acc:', test_acc)\n",
    "#print(\"\\nTest accuracy: %.1f%%\" % (100.0 * test_acc))"
   ]
  },
  {
   "cell_type": "markdown",
   "metadata": {},
   "source": [
    "### LSTM/GRU"
   ]
  },
  {
   "cell_type": "markdown",
   "metadata": {},
   "source": [
    "The LSTM and GRU layers are designed to solve to the vanishing gradient problem that makes SimpleRNN not suitable for most practical problems. This is achieved by injecting information from previous layers at a later time using some form of forgetting factors to circumvent the vanishing-gradient problem considerably. On the other hand, GRUs operate on the same principle as LSTMs except that for LSTM, three gates, namely input, output and forget gate are used, while for GRU only two gates, reset and update gate, are required. The choice between the two is trade-off between accuracy and computational complexity with LSTMs expected give higher accuracy. "
   ]
  },
  {
   "cell_type": "markdown",
   "metadata": {},
   "source": [
    "#### LSTM Example"
   ]
  },
  {
   "cell_type": "code",
   "execution_count": 18,
   "metadata": {},
   "outputs": [],
   "source": [
    "# Example of LSTM using the MNIST data set\n",
    "\n",
    "# Import necessary packages\n",
    "from keras import layers\n",
    "from keras import models\n"
   ]
  },
  {
   "cell_type": "code",
   "execution_count": 19,
   "metadata": {},
   "outputs": [],
   "source": [
    "# Import necessary packages\n",
    "import numpy as np\n",
    "from keras.models import Sequential\n",
    "from keras.layers import Dense, LSTM, GRU\n",
    "from keras.utils import to_categorical\n",
    "from keras.datasets import mnist"
   ]
  },
  {
   "cell_type": "code",
   "execution_count": 20,
   "metadata": {},
   "outputs": [],
   "source": [
    "# Load MNIST dataset from Keras\n",
    "from keras.datasets import mnist\n",
    "(train_images, train_labels), (test_images, test_labels) = mnist.load_data()\n",
    "\n",
    "# Extract the number of labels\n",
    "num_train_labels = len(np.unique(train_labels))\n"
   ]
  },
  {
   "cell_type": "code",
   "execution_count": 21,
   "metadata": {},
   "outputs": [],
   "source": [
    "# Normalize data for training\n",
    "train_images = train_images.reshape((60000, 28, 28))\n",
    "train_images = train_images.astype(\"float32\") / 255\n",
    "test_images = test_images.reshape((10000, 28, 28))\n",
    "test_images = test_images.astype(\"float32\") / 255"
   ]
  },
  {
   "cell_type": "code",
   "execution_count": 22,
   "metadata": {},
   "outputs": [],
   "source": [
    "# Prepare the training and test labels\n",
    "from keras.utils import to_categorical\n",
    "train_labels = to_categorical(train_labels)\n",
    "test_labels = to_categorical(test_labels)"
   ]
  },
  {
   "cell_type": "code",
   "execution_count": 24,
   "metadata": {},
   "outputs": [
    {
     "name": "stdout",
     "output_type": "stream",
     "text": [
      "Model: \"sequential_2\"\n",
      "_________________________________________________________________\n",
      "Layer (type)                 Output Shape              Param #   \n",
      "=================================================================\n",
      "lstm_2 (LSTM)                (None, 256)               291840    \n",
      "_________________________________________________________________\n",
      "dense_1 (Dense)              (None, 10)                2570      \n",
      "=================================================================\n",
      "Total params: 294,410\n",
      "Trainable params: 294,410\n",
      "Non-trainable params: 0\n",
      "_________________________________________________________________\n"
     ]
    }
   ],
   "source": [
    "# Create LSTM model with 256 units\n",
    "lstm_model = Sequential()\n",
    "lstm_model.add(layers.LSTM(256,input_shape=(28, 28)))\n",
    "lstm_model.add(Dense(num_train_labels, activation='softmax'))\n",
    "lstm_model.summary()"
   ]
  },
  {
   "cell_type": "code",
   "execution_count": 26,
   "metadata": {},
   "outputs": [
    {
     "name": "stdout",
     "output_type": "stream",
     "text": [
      "Train on 60000 samples, validate on 10000 samples\n",
      "Epoch 1/20\n",
      "60000/60000 [==============================] - 72s 1ms/step - loss: 0.4672 - accuracy: 0.8441 - val_loss: 0.1513 - val_accuracy: 0.9516\n",
      "Epoch 2/20\n",
      "60000/60000 [==============================] - 71s 1ms/step - loss: 0.1244 - accuracy: 0.9614 - val_loss: 0.1055 - val_accuracy: 0.9676\n",
      "Epoch 3/20\n",
      "60000/60000 [==============================] - 71s 1ms/step - loss: 0.0836 - accuracy: 0.9740 - val_loss: 0.0771 - val_accuracy: 0.9740\n",
      "Epoch 4/20\n",
      "60000/60000 [==============================] - 70s 1ms/step - loss: 0.0631 - accuracy: 0.9805 - val_loss: 0.0748 - val_accuracy: 0.9766\n",
      "Epoch 5/20\n",
      "60000/60000 [==============================] - 70s 1ms/step - loss: 0.0512 - accuracy: 0.9842 - val_loss: 0.0502 - val_accuracy: 0.9838\n",
      "Epoch 6/20\n",
      "60000/60000 [==============================] - 70s 1ms/step - loss: 0.0423 - accuracy: 0.9866 - val_loss: 0.0548 - val_accuracy: 0.9828\n",
      "Epoch 7/20\n",
      "60000/60000 [==============================] - 70s 1ms/step - loss: 0.0342 - accuracy: 0.9894 - val_loss: 0.0496 - val_accuracy: 0.9858\n",
      "Epoch 8/20\n",
      "60000/60000 [==============================] - 69s 1ms/step - loss: 0.0306 - accuracy: 0.9909 - val_loss: 0.0564 - val_accuracy: 0.9837\n",
      "Epoch 9/20\n",
      "60000/60000 [==============================] - 72s 1ms/step - loss: 0.0298 - accuracy: 0.9907 - val_loss: 0.0438 - val_accuracy: 0.9857\n",
      "Epoch 10/20\n",
      "60000/60000 [==============================] - 73s 1ms/step - loss: 0.0255 - accuracy: 0.9921 - val_loss: 0.0375 - val_accuracy: 0.9878\n",
      "Epoch 11/20\n",
      "60000/60000 [==============================] - 72s 1ms/step - loss: 0.0224 - accuracy: 0.9928 - val_loss: 0.0611 - val_accuracy: 0.9819\n",
      "Epoch 12/20\n",
      "60000/60000 [==============================] - 70s 1ms/step - loss: 0.0219 - accuracy: 0.9928 - val_loss: 0.0391 - val_accuracy: 0.9875\n",
      "Epoch 13/20\n",
      "60000/60000 [==============================] - 70s 1ms/step - loss: 0.0174 - accuracy: 0.9946 - val_loss: 0.0347 - val_accuracy: 0.9897\n",
      "Epoch 14/20\n",
      "60000/60000 [==============================] - 69s 1ms/step - loss: 0.0181 - accuracy: 0.9943 - val_loss: 0.0381 - val_accuracy: 0.9892\n",
      "Epoch 15/20\n",
      "60000/60000 [==============================] - 66s 1ms/step - loss: 0.0139 - accuracy: 0.9959 - val_loss: 0.0482 - val_accuracy: 0.9858\n",
      "Epoch 16/20\n",
      "60000/60000 [==============================] - 62s 1ms/step - loss: 0.0153 - accuracy: 0.9951 - val_loss: 0.0401 - val_accuracy: 0.9889\n",
      "Epoch 17/20\n",
      "60000/60000 [==============================] - 62s 1ms/step - loss: 0.0134 - accuracy: 0.9956 - val_loss: 0.0342 - val_accuracy: 0.9898\n",
      "Epoch 18/20\n",
      "60000/60000 [==============================] - 62s 1ms/step - loss: 0.0107 - accuracy: 0.9967 - val_loss: 0.0432 - val_accuracy: 0.9876\n",
      "Epoch 19/20\n",
      "60000/60000 [==============================] - 66s 1ms/step - loss: 0.0126 - accuracy: 0.9960 - val_loss: 0.0366 - val_accuracy: 0.9899\n",
      "Epoch 20/20\n",
      "60000/60000 [==============================] - 64s 1ms/step - loss: 0.0103 - accuracy: 0.9968 - val_loss: 0.0421 - val_accuracy: 0.9892\n"
     ]
    }
   ],
   "source": [
    "# Train the with the LSTM model with batch size of 128 and 20 epochs\n",
    "lstm_model.compile(loss='categorical_crossentropy',\n",
    "              optimizer='adam',\n",
    "              metrics=['accuracy'])\n",
    "history = lstm_model.fit(train_images, train_labels, epochs=20, batch_size=128, validation_data=(test_images, test_labels))"
   ]
  },
  {
   "cell_type": "code",
   "execution_count": 27,
   "metadata": {},
   "outputs": [
    {
     "data": {
      "text/plain": [
       "<matplotlib.legend.Legend at 0x1dbd7f0b0c8>"
      ]
     },
     "execution_count": 27,
     "metadata": {},
     "output_type": "execute_result"
    },
    {
     "data": {
      "image/png": "[encoded data removed]",
      "text/plain": [
       "<Figure size 432x288 with 1 Axes>"
      ]
     },
     "metadata": {
      "needs_background": "light"
     },
     "output_type": "display_data"
    }
   ],
   "source": [
    "# Plot training results\n",
    "\n",
    "#Import library for plots\n",
    "import matplotlib.pyplot as plt\n",
    "\n",
    "plt.plot(history.history['accuracy'], label='train_accuracy')\n",
    "plt.plot(history.history['val_accuracy'], label = 'val_accuracy')\n",
    "plt.xlabel('Epoch')\n",
    "plt.ylabel('Accuracy')\n",
    "plt.title('Training/Validation Accuracy')\n",
    "#plt.ylim([0.5, 1])\n",
    "plt.legend(loc='lower right')"
   ]
  },
  {
   "cell_type": "code",
   "execution_count": 29,
   "metadata": {},
   "outputs": [
    {
     "name": "stdout",
     "output_type": "stream",
     "text": [
      "10000/10000 [==============================] - 6s 644us/step\n",
      "test_acc: 0.9891999959945679\n"
     ]
    }
   ],
   "source": [
    "# Evaluate the model using the MNIST test dataset\n",
    "test_loss, test_acc = lstm_model.evaluate(test_images, test_labels)\n",
    "print('test_acc:', test_acc)\n",
    "#print(\"\\nTest accuracy: %.1f%%\" % (100.0 * test_acc))"
   ]
  },
  {
   "cell_type": "markdown",
   "metadata": {},
   "source": [
    "#### GRU Example"
   ]
  },
  {
   "cell_type": "code",
   "execution_count": 30,
   "metadata": {},
   "outputs": [],
   "source": [
    "# Example of GRU using the MNIST data set\n",
    "\n",
    "# Import necessary packages\n",
    "from keras import layers\n",
    "from keras import models\n"
   ]
  },
  {
   "cell_type": "code",
   "execution_count": 31,
   "metadata": {},
   "outputs": [],
   "source": [
    "# Import necessary packages\n",
    "import numpy as np\n",
    "from keras.models import Sequential\n",
    "from keras.layers import Dense, LSTM, GRU\n",
    "from keras.utils import to_categorical\n",
    "from keras.datasets import mnist"
   ]
  },
  {
   "cell_type": "code",
   "execution_count": 32,
   "metadata": {},
   "outputs": [],
   "source": [
    "# Load MNIST dataset from Keras\n",
    "from keras.datasets import mnist\n",
    "(train_images, train_labels), (test_images, test_labels) = mnist.load_data()\n",
    "\n",
    "# Extract the number of labels\n",
    "num_train_labels = len(np.unique(train_labels))\n"
   ]
  },
  {
   "cell_type": "code",
   "execution_count": 33,
   "metadata": {},
   "outputs": [],
   "source": [
    "# Normalize data for training\n",
    "train_images = train_images.reshape((60000, 28, 28))\n",
    "train_images = train_images.astype(\"float32\") / 255\n",
    "test_images = test_images.reshape((10000, 28, 28))\n",
    "test_images = test_images.astype(\"float32\") / 255"
   ]
  },
  {
   "cell_type": "code",
   "execution_count": 34,
   "metadata": {},
   "outputs": [],
   "source": [
    "# Prepare the training and test labels\n",
    "from keras.utils import to_categorical\n",
    "train_labels = to_categorical(train_labels)\n",
    "test_labels = to_categorical(test_labels)"
   ]
  },
  {
   "cell_type": "code",
   "execution_count": 36,
   "metadata": {},
   "outputs": [
    {
     "name": "stdout",
     "output_type": "stream",
     "text": [
      "Model: \"sequential_4\"\n",
      "_________________________________________________________________\n",
      "Layer (type)                 Output Shape              Param #   \n",
      "=================================================================\n",
      "gru_2 (GRU)                  (None, 256)               218880    \n",
      "_________________________________________________________________\n",
      "dense_3 (Dense)              (None, 10)                2570      \n",
      "=================================================================\n",
      "Total params: 221,450\n",
      "Trainable params: 221,450\n",
      "Non-trainable params: 0\n",
      "_________________________________________________________________\n"
     ]
    }
   ],
   "source": [
    "# Create GRU model with 256 units\n",
    "gru_model = Sequential()\n",
    "gru_model.add(layers.GRU(256,input_shape=(28, 28)))\n",
    "gru_model.add(Dense(num_train_labels, activation='softmax'))\n",
    "gru_model.summary()"
   ]
  },
  {
   "cell_type": "code",
   "execution_count": 37,
   "metadata": {},
   "outputs": [
    {
     "name": "stdout",
     "output_type": "stream",
     "text": [
      "Train on 60000 samples, validate on 10000 samples\n",
      "Epoch 1/20\n",
      "60000/60000 [==============================] - 57s 942us/step - loss: 0.4724 - accuracy: 0.8431 - val_loss: 0.1746 - val_accuracy: 0.9480\n",
      "Epoch 2/20\n",
      "60000/60000 [==============================] - 56s 926us/step - loss: 0.1271 - accuracy: 0.9615 - val_loss: 0.1011 - val_accuracy: 0.9692\n",
      "Epoch 3/20\n",
      "60000/60000 [==============================] - 56s 928us/step - loss: 0.0803 - accuracy: 0.9757 - val_loss: 0.0631 - val_accuracy: 0.9796\n",
      "Epoch 4/20\n",
      "60000/60000 [==============================] - 55s 909us/step - loss: 0.0602 - accuracy: 0.9814 - val_loss: 0.0616 - val_accuracy: 0.9801\n",
      "Epoch 5/20\n",
      "60000/60000 [==============================] - 54s 903us/step - loss: 0.0473 - accuracy: 0.9855 - val_loss: 0.0522 - val_accuracy: 0.9846\n",
      "Epoch 6/20\n",
      "60000/60000 [==============================] - 54s 907us/step - loss: 0.0394 - accuracy: 0.9879 - val_loss: 0.0388 - val_accuracy: 0.9879\n",
      "Epoch 7/20\n",
      "60000/60000 [==============================] - 54s 902us/step - loss: 0.0330 - accuracy: 0.9898 - val_loss: 0.0423 - val_accuracy: 0.9856\n",
      "Epoch 8/20\n",
      "60000/60000 [==============================] - 55s 914us/step - loss: 0.0285 - accuracy: 0.9909 - val_loss: 0.0402 - val_accuracy: 0.9872\n",
      "Epoch 9/20\n",
      "60000/60000 [==============================] - 54s 902us/step - loss: 0.0255 - accuracy: 0.9916 - val_loss: 0.0542 - val_accuracy: 0.9844\n",
      "Epoch 10/20\n",
      "60000/60000 [==============================] - 54s 906us/step - loss: 0.0205 - accuracy: 0.9936 - val_loss: 0.0451 - val_accuracy: 0.9855\n",
      "Epoch 11/20\n",
      "60000/60000 [==============================] - 54s 906us/step - loss: 0.0204 - accuracy: 0.9934 - val_loss: 0.0403 - val_accuracy: 0.9874\n",
      "Epoch 12/20\n",
      "60000/60000 [==============================] - 54s 903us/step - loss: 0.0185 - accuracy: 0.9942 - val_loss: 0.0441 - val_accuracy: 0.9881\n",
      "Epoch 13/20\n",
      "60000/60000 [==============================] - 55s 916us/step - loss: 0.0146 - accuracy: 0.9951 - val_loss: 0.0378 - val_accuracy: 0.9880\n",
      "Epoch 14/20\n",
      "60000/60000 [==============================] - 55s 914us/step - loss: 0.0181 - accuracy: 0.9941 - val_loss: 0.0362 - val_accuracy: 0.9889\n",
      "Epoch 15/20\n",
      "60000/60000 [==============================] - 54s 908us/step - loss: 0.0129 - accuracy: 0.9958 - val_loss: 0.0428 - val_accuracy: 0.9882\n",
      "Epoch 16/20\n",
      "60000/60000 [==============================] - 58s 968us/step - loss: 0.0100 - accuracy: 0.9970 - val_loss: 0.0371 - val_accuracy: 0.9888\n",
      "Epoch 17/20\n",
      "60000/60000 [==============================] - 57s 954us/step - loss: 0.0120 - accuracy: 0.9961 - val_loss: 0.0430 - val_accuracy: 0.9881\n",
      "Epoch 18/20\n",
      "60000/60000 [==============================] - 55s 913us/step - loss: 0.0114 - accuracy: 0.9962 - val_loss: 0.0344 - val_accuracy: 0.9897\n",
      "Epoch 19/20\n",
      "60000/60000 [==============================] - 57s 945us/step - loss: 0.0092 - accuracy: 0.9969 - val_loss: 0.0433 - val_accuracy: 0.9878\n",
      "Epoch 20/20\n",
      "60000/60000 [==============================] - 56s 932us/step - loss: 0.0085 - accuracy: 0.9974 - val_loss: 0.0439 - val_accuracy: 0.9881\n"
     ]
    }
   ],
   "source": [
    "# Train the with the GRU model with batch size of 128 and 20 epochs\n",
    "gru_model.compile(loss='categorical_crossentropy',\n",
    "              optimizer='adam',\n",
    "              metrics=['accuracy'])\n",
    "history = gru_model.fit(train_images, train_labels, epochs=20, batch_size=128, validation_data=(test_images, test_labels))"
   ]
  },
  {
   "cell_type": "code",
   "execution_count": 38,
   "metadata": {},
   "outputs": [
    {
     "data": {
      "text/plain": [
       "<matplotlib.legend.Legend at 0x1dbdf7edf08>"
      ]
     },
     "execution_count": 38,
     "metadata": {},
     "output_type": "execute_result"
    },
    {
     "data": {
      "image/png": "[encoded data removed]",
      "text/plain": [
       "<Figure size 432x288 with 1 Axes>"
      ]
     },
     "metadata": {
      "needs_background": "light"
     },
     "output_type": "display_data"
    }
   ],
   "source": [
    "# Plot training results\n",
    "\n",
    "#Import library for plots\n",
    "import matplotlib.pyplot as plt\n",
    "\n",
    "plt.plot(history.history['accuracy'], label='train_accuracy')\n",
    "plt.plot(history.history['val_accuracy'], label = 'val_accuracy')\n",
    "plt.xlabel('Epoch')\n",
    "plt.ylabel('Accuracy')\n",
    "plt.title('Training/Validation Accuracy')\n",
    "#plt.ylim([0.5, 1])\n",
    "plt.legend(loc='lower right')"
   ]
  },
  {
   "cell_type": "code",
   "execution_count": 39,
   "metadata": {},
   "outputs": [
    {
     "name": "stdout",
     "output_type": "stream",
     "text": [
      "10000/10000 [==============================] - 5s 469us/step\n",
      "test_acc: 0.988099992275238\n"
     ]
    }
   ],
   "source": [
    "# Evaluate the model using the MNIST test dataset\n",
    "test_loss, test_acc = gru_model.evaluate(test_images, test_labels)\n",
    "print('test_acc:', test_acc)\n",
    "#print(\"\\nTest accuracy: %.1f%%\" % (100.0 * test_acc))"
   ]
  },
  {
   "cell_type": "code",
   "execution_count": null,
   "metadata": {},
   "outputs": [],
   "source": []
  }
 ],
 "metadata": {
  "kernelspec": {
   "display_name": "Python 3",
   "language": "python",
   "name": "python3"
  },
  "language_info": {
   "codemirror_mode": {
    "name": "ipython",
    "version": 3
   },
   "file_extension": ".py",
   "mimetype": "text/x-python",
   "name": "python",
   "nbconvert_exporter": "python",
   "pygments_lexer": "ipython3",
   "version": "3.8.3"
  }
 },
 "nbformat": 4,
 "nbformat_minor": 5
}
