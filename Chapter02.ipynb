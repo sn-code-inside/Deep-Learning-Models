{
 "cells": [
  {
   "cell_type": "markdown",
   "metadata": {},
   "source": [
    "This note book contains example code found in the book [Deep Learning Models: A Practical Approach for Hands-On Professionals] It is intended to aid the quick execution of of the examples while much of the details are remain in the book."
   ]
  },
  {
   "cell_type": "markdown",
   "metadata": {},
   "source": [
    "# Chapter 2.\tRequirements for Hands on Approach to Deep Learning"
   ]
  },
  {
   "cell_type": "markdown",
   "metadata": {},
   "source": [
    "## 2.1\tIntroduction"
   ]
  },
  {
   "cell_type": "markdown",
   "metadata": {},
   "source": [
    "In this chapter we introduce some of the concepts needed to start build-ing deep learning models in Python. We will start with basic principles re-lated to data manipulation and end with explanation on how to set up the modelling environment. Of course, this chapter is not meant to replace any detailed course on Python but be a stepping stone for those already familiar or new to data structures in Python.  We would recommend to visit the  https://www.python.org/ site for comprehensive material Python. There is also vast number of online material both text and video on the Internet to help quicken the learning process."
   ]
  },
  {
   "cell_type": "markdown",
   "metadata": {},
   "source": [
    "## 2.2\tBasic Python Arrays for Deep Learning"
   ]
  },
  {
   "cell_type": "markdown",
   "metadata": {},
   "source": [
    "In deep learning models we will be processing data in numerical format defined from Python’s Numpy library. Therefore, for our purposes we will treat tensors as multidimensional Numpy arrays [1]. Why tensors? The Tensflow library is specifically geared to perform operations on tensors and tensors have the attractive property of being able to be efficiently manipu-lated on GPU. In deep learning, GPU processing drastically makes opera-tions faster reducing required time from hours to minutes.  "
   ]
  },
  {
   "cell_type": "markdown",
   "metadata": {},
   "source": [
    "### Scalars and 1-D Arrays (Vector)"
   ]
  },
  {
   "cell_type": "markdown",
   "metadata": {},
   "source": [
    "Scalar Example:"
   ]
  },
  {
   "cell_type": "code",
   "execution_count": 2,
   "metadata": {},
   "outputs": [
    {
     "name": "stdout",
     "output_type": "stream",
     "text": [
      "28\n"
     ]
    }
   ],
   "source": [
    "# Import the numpy library for array operations\n",
    "import numpy as np\n",
    "\n",
    "# Create a scalar (also know as 0-dimensional array or 0-D tensor)\n",
    "ar1 = np.array(28)\n",
    "print(ar1)"
   ]
  },
  {
   "cell_type": "code",
   "execution_count": 3,
   "metadata": {},
   "outputs": [
    {
     "data": {
      "text/plain": [
       "array(28)"
      ]
     },
     "execution_count": 3,
     "metadata": {},
     "output_type": "execute_result"
    }
   ],
   "source": [
    "# Array contents can simply be confirmed by typing the array name\n",
    "ar1"
   ]
  },
  {
   "cell_type": "markdown",
   "metadata": {},
   "source": [
    "Some of the commonly used important attributes of arrays include shape, dimension, size and data type. These can be queried by executing command of the type arrayname.attribute. In addition, arithmetic operations such as addition, multiplcation, transposition, etc. can be performed on arrays. Finally, array conversions and manipulations of shapes  arrays are also possible. We will give some examples of basic manipulation of matrices relevant to the scope of this book. These examples are in no way exhaustive and the we advise to quickly Google search for any topics of interest on arrays.  "
   ]
  },
  {
   "cell_type": "markdown",
   "metadata": {},
   "source": [
    "1-D Array Example:"
   ]
  },
  {
   "cell_type": "code",
   "execution_count": 22,
   "metadata": {},
   "outputs": [
    {
     "name": "stdout",
     "output_type": "stream",
     "text": [
      "[1 2 3]\n"
     ]
    }
   ],
   "source": [
    "ar1 = np.array([1,2,3])\n",
    "print(ar1)"
   ]
  },
  {
   "cell_type": "code",
   "execution_count": 23,
   "metadata": {},
   "outputs": [],
   "source": [
    "# test\n",
    "ar2 = np.array([\n",
    "    [1],[2],[3]])"
   ]
  },
  {
   "cell_type": "code",
   "execution_count": 24,
   "metadata": {},
   "outputs": [
    {
     "data": {
      "text/plain": [
       "3"
      ]
     },
     "execution_count": 24,
     "metadata": {},
     "output_type": "execute_result"
    }
   ],
   "source": [
    "ar2.size"
   ]
  },
  {
   "cell_type": "code",
   "execution_count": 25,
   "metadata": {},
   "outputs": [
    {
     "data": {
      "text/plain": [
       "1"
      ]
     },
     "execution_count": 25,
     "metadata": {},
     "output_type": "execute_result"
    }
   ],
   "source": [
    "# Query array dimension => Expected answer is 1 for 1-D arrays or vectors or 1-D tensor. \n",
    "# In tensor terminology, the dimension is referred to as the aaxis.\n",
    "ar1.ndim"
   ]
  },
  {
   "cell_type": "code",
   "execution_count": 32,
   "metadata": {
    "scrolled": true
   },
   "outputs": [
    {
     "data": {
      "text/plain": [
       "(3,)"
      ]
     },
     "execution_count": 32,
     "metadata": {},
     "output_type": "execute_result"
    }
   ],
   "source": [
    "# Query array shape => Here the expected answer is the number of elements along the axis, 3 in this case.\n",
    "ar1.shape"
   ]
  },
  {
   "cell_type": "code",
   "execution_count": 27,
   "metadata": {},
   "outputs": [
    {
     "data": {
      "text/plain": [
       "dtype('int32')"
      ]
     },
     "execution_count": 27,
     "metadata": {},
     "output_type": "execute_result"
    }
   ],
   "source": [
    "# Query array data type => Expected answer is \"int32\" for scalars since this is default type for integer elements if data type is not explicitly defined in the array.\n",
    "ar1.dtype"
   ]
  },
  {
   "cell_type": "code",
   "execution_count": 31,
   "metadata": {},
   "outputs": [
    {
     "data": {
      "text/plain": [
       "3"
      ]
     },
     "execution_count": 31,
     "metadata": {},
     "output_type": "execute_result"
    }
   ],
   "source": [
    "# Query array size => Expected answer is \"1\" in the above example since the the size gives the number of elements in the array.\n",
    "ar1.size"
   ]
  },
  {
   "cell_type": "markdown",
   "metadata": {},
   "source": [
    "### 2-D Arrays (Matrices) , 3-D Arrays (Data cubes) "
   ]
  },
  {
   "cell_type": "markdown",
   "metadata": {},
   "source": [
    "1-D Array Example:"
   ]
  },
  {
   "cell_type": "code",
   "execution_count": 11,
   "metadata": {},
   "outputs": [
    {
     "name": "stdout",
     "output_type": "stream",
     "text": [
      "[1 2 3]\n"
     ]
    }
   ],
   "source": [
    "ar1 = np.array([1,2,3])\n",
    "print(ar1)"
   ]
  },
  {
   "cell_type": "code",
   "execution_count": 12,
   "metadata": {},
   "outputs": [
    {
     "data": {
      "text/plain": [
       "1"
      ]
     },
     "execution_count": 12,
     "metadata": {},
     "output_type": "execute_result"
    }
   ],
   "source": [
    "# Query array dimension => Expected answer is 1 for 1-D arrays or vectors or 1-D tensor.\n",
    "ar1.ndim"
   ]
  },
  {
   "cell_type": "code",
   "execution_count": 6,
   "metadata": {
    "scrolled": false
   },
   "outputs": [
    {
     "data": {
      "text/plain": [
       "()"
      ]
     },
     "execution_count": 6,
     "metadata": {},
     "output_type": "execute_result"
    }
   ],
   "source": [
    "# Query array shape => Expected answer is empty \"()\" for scalars\n",
    "ar1.shape"
   ]
  },
  {
   "cell_type": "code",
   "execution_count": 8,
   "metadata": {},
   "outputs": [
    {
     "data": {
      "text/plain": [
       "dtype('int32')"
      ]
     },
     "execution_count": 8,
     "metadata": {},
     "output_type": "execute_result"
    }
   ],
   "source": [
    "# Query array data type => Expected answer is \"int32\" for scalars since this is default type if not explicitly defined in the array.\n",
    "ar1.dtype"
   ]
  },
  {
   "cell_type": "code",
   "execution_count": 10,
   "metadata": {},
   "outputs": [
    {
     "data": {
      "text/plain": [
       "1"
      ]
     },
     "execution_count": 10,
     "metadata": {},
     "output_type": "execute_result"
    }
   ],
   "source": [
    "# Query array size => Expected answer is \"1\" in the above example since the the size gives the number of elements in the array.\n",
    "ar1.size"
   ]
  },
  {
   "cell_type": "markdown",
   "metadata": {},
   "source": [
    "2D Array Example"
   ]
  },
  {
   "cell_type": "code",
   "execution_count": 8,
   "metadata": {},
   "outputs": [
    {
     "name": "stdout",
     "output_type": "stream",
     "text": [
      "[[ 0  1  2  3  4]\n",
      " [10 11 12 13 14]\n",
      " [20 21 22 23 24]]\n"
     ]
    }
   ],
   "source": [
    "# Create an array of arbitray shape\n",
    "# Import the numpy library for array operations\n",
    "import numpy as np\n",
    "\n",
    "ar1= np.array([[0,1,2,3,4],[10,11,12,13,14], [20,21,22,23,24]])\n",
    "print(ar1)"
   ]
  },
  {
   "cell_type": "code",
   "execution_count": 9,
   "metadata": {},
   "outputs": [
    {
     "data": {
      "text/plain": [
       "2"
      ]
     },
     "execution_count": 9,
     "metadata": {},
     "output_type": "execute_result"
    }
   ],
   "source": [
    "# Query array dimension => Expected answer is 2 for 2-D arrays or vectors or 2-D tensor.\n",
    "ar1.ndim"
   ]
  },
  {
   "cell_type": "code",
   "execution_count": 10,
   "metadata": {
    "scrolled": false
   },
   "outputs": [
    {
     "data": {
      "text/plain": [
       "(3, 5)"
      ]
     },
     "execution_count": 10,
     "metadata": {},
     "output_type": "execute_result"
    }
   ],
   "source": [
    "# Query array shape => Expected answer is \"(3,5)\" for the above example.\n",
    "ar1.shape"
   ]
  },
  {
   "cell_type": "markdown",
   "metadata": {},
   "source": [
    "3D Array Example"
   ]
  },
  {
   "cell_type": "code",
   "execution_count": 12,
   "metadata": {},
   "outputs": [
    {
     "name": "stdout",
     "output_type": "stream",
     "text": [
      "[[[ 0  1  2  3  4]\n",
      "  [10 11 12 13 14]\n",
      "  [20 21 22 23 24]]\n",
      "\n",
      " [[ 5  6  7  8  9]\n",
      "  [15 26 17 18 19]\n",
      "  [25 26 27 28 29]]\n",
      "\n",
      " [[30 31 32 33 34]\n",
      "  [40 41 42 43 44]\n",
      "  [50 51 52 53 54]]]\n"
     ]
    }
   ],
   "source": [
    "# Import the numpy library for array operations\n",
    "import numpy as np\n",
    "ar1 = np.array([[[0, 1, 2, 3, 4],\n",
    "               [10, 11, 12, 13, 14],\n",
    "               [20, 21, 22, 23, 24]],\n",
    "              [[5, 6, 7, 8, 9],\n",
    "               [15, 26, 17, 18, 19],\n",
    "               [25, 26, 27, 28, 29]],\n",
    "              [[30, 31, 32, 33, 34],\n",
    "               [40, 41, 42, 43, 44],\n",
    "               [50, 51, 52, 53, 54]]])\n",
    "print(ar1)"
   ]
  },
  {
   "cell_type": "code",
   "execution_count": 13,
   "metadata": {},
   "outputs": [
    {
     "data": {
      "text/plain": [
       "3"
      ]
     },
     "execution_count": 13,
     "metadata": {},
     "output_type": "execute_result"
    }
   ],
   "source": [
    "# Query array dimension => Expected answer is 3 for 3-D arrays or cubes or 3-D tensor (e.g. length,width, depth => 3D).\n",
    "ar1.ndim"
   ]
  },
  {
   "cell_type": "code",
   "execution_count": 14,
   "metadata": {
    "scrolled": false
   },
   "outputs": [
    {
     "data": {
      "text/plain": [
       "(3, 3, 5)"
      ]
     },
     "execution_count": 14,
     "metadata": {},
     "output_type": "execute_result"
    }
   ],
   "source": [
    "# Query array shape => Expected answer is \"(3,3,5)\" for the above example.\n",
    "ar1.shape"
   ]
  },
  {
   "cell_type": "markdown",
   "metadata": {},
   "source": [
    "### Multi-dimensional Arrays "
   ]
  },
  {
   "cell_type": "code",
   "execution_count": 15,
   "metadata": {},
   "outputs": [
    {
     "name": "stdout",
     "output_type": "stream",
     "text": [
      "[[[[ 0  1  2  3  4]\n",
      "   [10 11 12 13 14]\n",
      "   [20 21 22 23 24]]\n",
      "\n",
      "  [[ 5  6  7  8  9]\n",
      "   [15 26 17 18 19]\n",
      "   [25 26 27 28 29]]\n",
      "\n",
      "  [[30 31 32 33 34]\n",
      "   [40 41 42 43 44]\n",
      "   [50 51 52 53 54]]]\n",
      "\n",
      "\n",
      " [[[30 31 32 33 34]\n",
      "   [40 41 42 43 44]\n",
      "   [50 51 52 53 54]]\n",
      "\n",
      "  [[ 5  6  7  8  9]\n",
      "   [15 26 17 18 19]\n",
      "   [25 26 27 28 29]]\n",
      "\n",
      "  [[30 31 32 33 34]\n",
      "   [40 41 42 43 44]\n",
      "   [50 51 52 53 54]]]]\n"
     ]
    }
   ],
   "source": [
    "# Import the numpy library for array operations\n",
    "import numpy as np\n",
    "ar1 = np.array([[[[0, 1, 2, 3, 4],\n",
    "               [10, 11, 12, 13, 14],\n",
    "               [20, 21, 22, 23, 24]],\n",
    "              [[5, 6, 7, 8, 9],\n",
    "               [15, 26, 17, 18, 19],\n",
    "               [25, 26, 27, 28, 29]],\n",
    "              [[30, 31, 32, 33, 34],\n",
    "               [40, 41, 42, 43, 44],\n",
    "               [50, 51, 52, 53, 54]]], \n",
    "               [[[30, 31, 32, 33, 34],\n",
    "               [40, 41, 42, 43, 44],\n",
    "               [50, 51, 52, 53, 54]],\n",
    "              [[5, 6, 7, 8, 9],\n",
    "               [15, 26, 17, 18, 19],\n",
    "               [25, 26, 27, 28, 29]],\n",
    "              [[30, 31, 32, 33, 34],\n",
    "               [40, 41, 42, 43, 44],\n",
    "               [50, 51, 52, 53, 54]]]])\n",
    "print(ar1)"
   ]
  },
  {
   "cell_type": "code",
   "execution_count": 16,
   "metadata": {},
   "outputs": [
    {
     "data": {
      "text/plain": [
       "4"
      ]
     },
     "execution_count": 16,
     "metadata": {},
     "output_type": "execute_result"
    }
   ],
   "source": [
    "# Query array dimension => Expected answer is 4 for 4-D arrays or 4-D tensor (e.g. channel, length, width, depth => 4D).\n",
    "\n",
    "ar1.shapear1.ndim"
   ]
  },
  {
   "cell_type": "code",
   "execution_count": 17,
   "metadata": {
    "scrolled": false
   },
   "outputs": [
    {
     "data": {
      "text/plain": [
       "(2, 3, 3, 5)"
      ]
     },
     "execution_count": 17,
     "metadata": {},
     "output_type": "execute_result"
    }
   ],
   "source": [
    "# Query array shape => Expected answer is \"(2,3,3,5)\" for the above example,\n",
    "\n",
    "ar1.shape"
   ]
  },
  {
   "cell_type": "markdown",
   "metadata": {},
   "source": [
    "### Array Shape manipulation "
   ]
  },
  {
   "cell_type": "code",
   "execution_count": 1,
   "metadata": {},
   "outputs": [
    {
     "name": "stdout",
     "output_type": "stream",
     "text": [
      "[[ 0  1  2  3  4]\n",
      " [10 11 12 13 14]\n",
      " [20 21 22 23 24]]\n"
     ]
    }
   ],
   "source": [
    "# Example of reshape and transpose operations that can be performed on Numpy arrays\n",
    "# Import the numpy library for array operations\n",
    "import numpy as np\n",
    "\n",
    "# Create an array of arbitray shape\n",
    "ar1= np.array([[0,1,2,3,4],[10,11,12,13,14], [20,21,22,23,24]])\n",
    "print(ar1)"
   ]
  },
  {
   "cell_type": "code",
   "execution_count": 2,
   "metadata": {},
   "outputs": [
    {
     "data": {
      "text/plain": [
       "(3, 5)"
      ]
     },
     "execution_count": 2,
     "metadata": {},
     "output_type": "execute_result"
    }
   ],
   "source": [
    "# Query array shape => Expected answer is \"(3,5)\" for this example\n",
    "ar1.shape"
   ]
  },
  {
   "cell_type": "code",
   "execution_count": 3,
   "metadata": {},
   "outputs": [
    {
     "data": {
      "text/plain": [
       "array([[ 0,  1,  2],\n",
       "       [ 3,  4, 10],\n",
       "       [11, 12, 13],\n",
       "       [14, 20, 21],\n",
       "       [22, 23, 24]])"
      ]
     },
     "execution_count": 3,
     "metadata": {},
     "output_type": "execute_result"
    }
   ],
   "source": [
    "# Change the shape of the array by reshaping\n",
    "ar1.reshape(5,3)"
   ]
  },
  {
   "cell_type": "code",
   "execution_count": 4,
   "metadata": {},
   "outputs": [
    {
     "data": {
      "text/plain": [
       "(3, 5)"
      ]
     },
     "execution_count": 4,
     "metadata": {},
     "output_type": "execute_result"
    }
   ],
   "source": [
    "# Query array shape => Expected answer is \"(5,3)\" for this example\n",
    "ar1.shape"
   ]
  },
  {
   "cell_type": "code",
   "execution_count": 10,
   "metadata": {},
   "outputs": [
    {
     "data": {
      "text/plain": [
       "array([[ 0, 10, 20],\n",
       "       [ 1, 11, 21],\n",
       "       [ 2, 12, 22],\n",
       "       [ 3, 13, 23],\n",
       "       [ 4, 14, 24]])"
      ]
     },
     "execution_count": 10,
     "metadata": {},
     "output_type": "execute_result"
    }
   ],
   "source": [
    "# Change the shape of the array by transposition\n",
    "ar2 = np.transpose(ar1)\n",
    "ar2"
   ]
  },
  {
   "cell_type": "code",
   "execution_count": 11,
   "metadata": {},
   "outputs": [
    {
     "data": {
      "text/plain": [
       "(5, 3)"
      ]
     },
     "execution_count": 11,
     "metadata": {},
     "output_type": "execute_result"
    }
   ],
   "source": [
    "# Query array shape => Expected answer is \"(5,3)\" for this example\n",
    "ar2.shape"
   ]
  },
  {
   "cell_type": "code",
   "execution_count": null,
   "metadata": {},
   "outputs": [],
   "source": []
  }
 ],
 "metadata": {
  "kernelspec": {
   "display_name": "Python 3",
   "language": "python",
   "name": "python3"
  },
  "language_info": {
   "codemirror_mode": {
    "name": "ipython",
    "version": 3
   },
   "file_extension": ".py",
   "mimetype": "text/x-python",
   "name": "python",
   "nbconvert_exporter": "python",
   "pygments_lexer": "ipython3",
   "version": "3.8.3"
  }
 },
 "nbformat": 4,
 "nbformat_minor": 5
}
